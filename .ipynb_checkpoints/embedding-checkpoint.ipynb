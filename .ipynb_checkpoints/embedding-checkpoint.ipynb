{
 "cells": [
  {
   "cell_type": "code",
   "execution_count": 1,
   "id": "c73117fc-87ca-4d23-8513-3d3143466dd7",
   "metadata": {
    "tags": []
   },
   "outputs": [
    {
     "name": "stdout",
     "output_type": "stream",
     "text": [
      "\n",
      "{\n",
      "    \"title\": \"PVC Inflatable Glow-in-the-Dark Frog Water Toy for Kids Night Market Stall Hot Sale\",\n",
      "    \"selling_points\": [\n",
      "        \"Made of durable PVC material\",\n",
      "        \"Inflatable design for easy storage and transport\",\n",
      "        \"Glow-in-the-dark feature for night time fun\",\n",
      "        \"Perfect for water play and pool parties\",\n",
      "        \"Great for kids of all ages\"\n",
      "    ],\n",
      "    \"price_range\": \"$10 - $20\"\n",
      "}\n"
     ]
    }
   ],
   "source": [
    "import openai\n",
    "import os\n",
    "\n",
    "openai.api_key = os.environ.get(\"OPENAI_API_KEY\")\n",
    "COMPLETION_MODEL = \"text-davinci-003\"\n",
    "\n",
    "prompt = \"\"\"\n",
    "Consideration product : 工厂现货PVC充气青蛙夜市地摊热卖充气玩具发光蛙儿童水上玩具\n",
    "\n",
    "1. Compose human readable product title used on Amazon in english within 20 words.\n",
    "2. Write 5 selling points for the products in Amazon.\n",
    "3. Evaluate a price range for this product in U.S.\n",
    "\n",
    "Output the result in json format with three properties called title, selling_points and price_range\n",
    "\"\"\"\n",
    "\n",
    "def get_response(prompt):\n",
    "    completions = openai.Completion.create (\n",
    "        engine=COMPLETION_MODEL,\n",
    "        prompt=prompt,\n",
    "        max_tokens=512,\n",
    "        n=1,\n",
    "        stop=None,\n",
    "        temperature=0.0,        \n",
    "    )\n",
    "    message = completions.choices[0].text\n",
    "    return message\n",
    "\n",
    "print(get_response(prompt)) "
   ]
  },
  {
   "cell_type": "code",
   "execution_count": 6,
   "id": "feaffda1-f51e-49f3-aa09-f164f97f81b6",
   "metadata": {},
   "outputs": [
    {
     "name": "stdout",
     "output_type": "stream",
     "text": [
      "好评例子的评分 : 0.070963\n",
      "差评例子的评分 : -0.072895\n"
     ]
    }
   ],
   "source": [
    "import openai\n",
    "import os\n",
    "from openai.embeddings_utils import cosine_similarity, get_embedding\n",
    "\n",
    "# 获取访问open ai的密钥\n",
    "openai.api_key = os.getenv(\"OPENAI_API_KEY\")\n",
    "# 选择使用最小的ada模型\n",
    "EMBEDDING_MODEL = \"text-embedding-ada-002\"\n",
    "\n",
    "# 获取\"好评\"和\"差评\"的\n",
    "positive_review = get_embedding(\"好评\")\n",
    "negative_review = get_embedding(\"差评\")\n",
    "\n",
    "positive_example = get_embedding(\"买的银色版真的很好看，一天就到了，晚上就开始拿起来完系统很丝滑流畅，做工扎实，手感细腻，很精致哦苹果一如既往的好品质\")\n",
    "negative_example = get_embedding(\"降价厉害，保价不合理，不推荐\")\n",
    "\n",
    "def get_score(sample_embedding):\n",
    "  return cosine_similarity(sample_embedding, positive_review) - cosine_similarity(sample_embedding, negative_review)\n",
    "\n",
    "positive_score = get_score(positive_example)\n",
    "negative_score = get_score(negative_example)\n",
    "\n",
    "print(\"好评例子的评分 : %f\" % (positive_score))\n",
    "print(\"差评例子的评分 : %f\" % (negative_score))"
   ]
  },
  {
   "cell_type": "code",
   "execution_count": 6,
   "id": "8371d7e6-e5ef-40db-b3b3-8df8469ef345",
   "metadata": {
    "tags": []
   },
   "outputs": [],
   "source": [
    "import pandas as pd\n",
    "import numpy as np\n",
    "\n",
    "from sklearn.metrics import classification_report\n",
    "\n",
    "datafile_path = \"AllProductReviews.csv\"\n",
    "\n",
    "df = pd.read_csv(datafile_path,encoding='Windows-1252')\n"
   ]
  },
  {
   "cell_type": "code",
   "execution_count": 4,
   "id": "9c596140-1678-4649-abb2-97b167f59198",
   "metadata": {},
   "outputs": [
    {
     "name": "stdout",
     "output_type": "stream",
     "text": [
      "Windows-1252\n"
     ]
    }
   ],
   "source": [
    "import chardet\n",
    "\n",
    "datafile_path = \"AllProductReviews.csv\"\n",
    "\n",
    "with open(datafile_path, 'rb') as f:\n",
    "    result = chardet.detect(f.read())\n",
    "print(result['encoding'])"
   ]
  },
  {
   "cell_type": "code",
   "execution_count": 7,
   "id": "f77993cc-0be0-4c29-ab3d-4bb517a12ae6",
   "metadata": {
    "tags": []
   },
   "outputs": [
    {
     "name": "stdout",
     "output_type": "stream",
     "text": [
      "                                          ReviewTitle   \n",
      "0               Honest review of an edm music lover\\n  \\\n",
      "1               Unreliable earphones with high cost\\n   \n",
      "2                          Really good and durable.\\n   \n",
      "3                   stopped working in just 14 days\\n   \n",
      "4   Just Awesome Wireless Headphone under 1000...ð...   \n",
      "5                                    Dont buy this.\\n   \n",
      "6   SOUND QUALITY IS GOOD ,BUT POOR CONNECTIVITY ,...   \n",
      "7                               It's China product.\\n   \n",
      "8   Great purchase with minor flaws here and there.\\n   \n",
      "9                             Average sound quality\\n   \n",
      "10                           Good quality earphones\\n   \n",
      "11                                            Cheap\\n   \n",
      "12                               Noise cancellation\\n   \n",
      "13                                          Average\\n   \n",
      "14                              Don't buy  this one\\n   \n",
      "15                          Excellent sound quality\\n   \n",
      "16                                          average\\n   \n",
      "17                                     Fake product\\n   \n",
      "18  Good headset if you don't mind what I've state...   \n",
      "19  Ability to play music and handle calls when co...   \n",
      "20  First impressions ? Not that great . Good , ju...   \n",
      "21                           Pathetic Audio Quality\\n   \n",
      "22                                   a good product\\n   \n",
      "23            Average headphones , n overrated name\\n   \n",
      "\n",
      "                                           ReviewBody  ReviewStar   \n",
      "0   No doubt it has a great bass and to a great ex...           3  \\\n",
      "1   This  earphones are unreliable, i bought it be...           1   \n",
      "2   i bought itfor 999,I purchased it second time,...           4   \n",
      "3   Its sound quality is adorable. overall it was ...           1   \n",
      "4   Its Awesome... Good sound quality & 8-9 hrs ba...           5   \n",
      "5   Its a cheap chinese product. No bass at all. V...           1   \n",
      "6   SOUND QUALITY of flybot wave wireless earphone...           2   \n",
      "7                               It's China product.\\n           1   \n",
      "8   Its an awesome purchase but the mike doesn't q...           4   \n",
      "9   Pros. Good and comfortable  fit , eliminates n...           3   \n",
      "10  It's a good and value for money earphones. Hap...           5   \n",
      "11                                            Cheap\\n           3   \n",
      "12                                     Good quality\\n           5   \n",
      "13                                   Cheap and best\\n           4   \n",
      "14   sound is very poor, vibration option also poor\\n           1   \n",
      "15       Superb sound clarity !! Original product .\\n           5   \n",
      "16                          Average...not excellent\\n           3   \n",
      "17  The product i recieved is not even original. T...           1   \n",
      "18  I bought these a few days back and after a lot...           3   \n",
      "19  Sennheiser CX 275 S Headphone, is a simpler af...           4   \n",
      "20  Got to say, not impressed.Sound profile is wid...           3   \n",
      "21  I like to think of myself as an audiophile, an...           1   \n",
      "22  the sound is good battery life is good but the...           5   \n",
      "23  M writing this review after using for almost 7...           1   \n",
      "\n",
      "                  Product  \n",
      "0        boAt Rockerz 255  \n",
      "1        boAt Rockerz 255  \n",
      "2        boAt Rockerz 255  \n",
      "3        boAt Rockerz 255  \n",
      "4        boAt Rockerz 255  \n",
      "5             Flybot Wave  \n",
      "6             Flybot Wave  \n",
      "7             Flybot Wave  \n",
      "8             Flybot Wave  \n",
      "9             Flybot Boom  \n",
      "10          PTron Intunes  \n",
      "11          PTron Intunes  \n",
      "12          PTron Intunes  \n",
      "13          PTron Intunes  \n",
      "14  Samsung EO-BG950CBEIN  \n",
      "15  Samsung EO-BG950CBEIN  \n",
      "16  Samsung EO-BG950CBEIN  \n",
      "17             JBL T205BT  \n",
      "18             JBL T205BT  \n",
      "19    Sennheiser CX 6.0BT  \n",
      "20    Sennheiser CX 6.0BT  \n",
      "21    Sennheiser CX 6.0BT  \n",
      "22             JBL T110BT  \n",
      "23             JBL T110BT  \n"
     ]
    }
   ],
   "source": [
    "print(df)"
   ]
  },
  {
   "cell_type": "code",
   "execution_count": null,
   "id": "7d42374b-435f-4ae7-a133-a4a79832ed37",
   "metadata": {},
   "outputs": [],
   "source": []
  }
 ],
 "metadata": {
  "kernelspec": {
   "display_name": "Python 3 (ipykernel)",
   "language": "python",
   "name": "python3"
  },
  "language_info": {
   "codemirror_mode": {
    "name": "ipython",
    "version": 3
   },
   "file_extension": ".py",
   "mimetype": "text/x-python",
   "name": "python",
   "nbconvert_exporter": "python",
   "pygments_lexer": "ipython3",
   "version": "3.10.10"
  }
 },
 "nbformat": 4,
 "nbformat_minor": 5
}
