# Import necessary libraries
import openai
import os
import gradio as gr
import azure.cognitiveservices.speech as speechsdk

# Ensure API keys are set
openai.api_key = os.getenv("OPENAI_API_KEY")
speech_key = os.getenv("SPEECH_KEY")
speech_region = os.getenv("SPEECH_REGION")

if not openai.api_key:
    raise ValueError("OPENAI_API_KEY environment variable is not set.")
if not speech_key or not speech_region:
    raise ValueError("SPEECH_KEY or SPEECH_REGION environment variable is not set.")

# Define the Conversation class
class Conversation:
    def __init__(self, prompt, num_of_rounds):
        self.prompt = prompt
        self.num_of_rounds = num_of_rounds
        self.messages = [{"role": "system", "content": self.prompt}]

    def ask(self, question):
        try:
            self.messages.append({"role": "user", "content": question})
            response = openai.ChatCompletion.create(
                model="gpt-3.5-turbo",
                messages=self.messages,
                temperature=0.5,
                max_tokens=2048,
                top_p=1,
            )
            message = response["choices"][0]["message"]["content"]
            self.messages.append({"role": "assistant", "content": message})

            # Limit the number of messages to the specified rounds
            if len(self.messages) > self.num_of_rounds * 2 + 1:
                del self.messages[1:3]

            return message
        except Exception as e:
            print(f"Error during OpenAI API call: {e}")
            return str(e)

# Initialize Azure Speech SDK
speech_config = speechsdk.SpeechConfig(subscription=speech_key, region=speech_region)
speech_config.speech_synthesis_language = "en-US"
speech_config.speech_synthesis_voice_name = "en-US-JennyNeural"
audio_config = speechsdk.audio.AudioOutputConfig(use_default_speaker=True)
speech_synthesizer = speechsdk.SpeechSynthesizer(speech_config=speech_config, audio_config=audio_config)

def play_voice(text):
    try:
        result = speech_synthesizer.speak_text_async(text).get()
        if result.reason == speechsdk.ResultReason.SynthesizingAudioCompleted:
            print(f"Speech synthesized for text: {text}")
        else:
            print(f"Speech synthesis failed. Reason: {result.reason}")
    except Exception as e:
        print(f"Error during speech synthesis: {e}")

# Define the Gradio interface
def chatbot_response(question, history=[]):
    history.append(question)
    response = conv.ask(question)
    history.append(response)
    play_voice(response)
    return history

prompt = """
You are a helpful assistant. Please follow these rules:
1. Respond in 100 words or less.
2. Use the same language as the input question.
"""
conv = Conversation(prompt, 2)

# Define the Gradio UI
with gr.Blocks(css="#chatbot{height:500px} .overflow-y-auto{height:500px}") as demo:
    chatbot = gr.Chatbot(elem_id="chatbot")
    state = gr.State([])

    with gr.Row():
        txt = gr.Textbox(show_label=False, placeholder="Enter text and press Enter").style(container=False)

    txt.submit(chatbot_response, [txt, state], [chatbot, state])

demo.launch()
