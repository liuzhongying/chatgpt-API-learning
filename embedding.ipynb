{
 "cells": [
  {
   "cell_type": "code",
   "execution_count": 1,
   "id": "c73117fc-87ca-4d23-8513-3d3143466dd7",
   "metadata": {
    "tags": []
   },
   "outputs": [
    {
     "name": "stdout",
     "output_type": "stream",
     "text": [
      "\n",
      "{\n",
      "    \"title\": \"PVC Inflatable Glow-in-the-Dark Frog Water Toy for Kids Night Market Stall Hot Sale\",\n",
      "    \"selling_points\": [\n",
      "        \"Made of durable PVC material\",\n",
      "        \"Inflatable design for easy storage and transport\",\n",
      "        \"Glow-in-the-dark feature for night time fun\",\n",
      "        \"Perfect for water play and pool parties\",\n",
      "        \"Great for kids of all ages\"\n",
      "    ],\n",
      "    \"price_range\": \"$10 - $20\"\n",
      "}\n"
     ]
    }
   ],
   "source": [
    "import openai\n",
    "import os\n",
    "\n",
    "openai.api_key = os.environ.get(\"OPENAI_API_KEY\")\n",
    "COMPLETION_MODEL = \"text-davinci-003\"\n",
    "\n",
    "prompt = \"\"\"\n",
    "Consideration product : 工厂现货PVC充气青蛙夜市地摊热卖充气玩具发光蛙儿童水上玩具\n",
    "\n",
    "1. Compose human readable product title used on Amazon in english within 20 words.\n",
    "2. Write 5 selling points for the products in Amazon.\n",
    "3. Evaluate a price range for this product in U.S.\n",
    "\n",
    "Output the result in json format with three properties called title, selling_points and price_range\n",
    "\"\"\"\n",
    "\n",
    "def get_response(prompt):\n",
    "    completions = openai.Completion.create (\n",
    "        engine=COMPLETION_MODEL,\n",
    "        prompt=prompt,\n",
    "        max_tokens=512,\n",
    "        n=1,\n",
    "        stop=None,\n",
    "        temperature=0.0,        \n",
    "    )\n",
    "    message = completions.choices[0].text\n",
    "    return message\n",
    "\n",
    "print(get_response(prompt)) "
   ]
  },
  {
   "cell_type": "code",
   "execution_count": 1,
   "id": "feaffda1-f51e-49f3-aa09-f164f97f81b6",
   "metadata": {},
   "outputs": [
    {
     "name": "stdout",
     "output_type": "stream",
     "text": [
      "好评例子的评分 : 0.070963\n",
      "差评例子的评分 : -0.072895\n"
     ]
    }
   ],
   "source": [
    "import openai\n",
    "import os\n",
    "from openai.embeddings_utils import cosine_similarity, get_embedding\n",
    "\n",
    "# 获取访问open ai的密钥\n",
    "openai.api_key = os.getenv(\"OPENAI_API_KEY\")\n",
    "# 选择使用最小的ada模型\n",
    "EMBEDDING_MODEL = \"text-embedding-ada-002\"\n",
    "\n",
    "# 获取\"好评\"和\"差评\"的\n",
    "positive_review = get_embedding(\"好评\")\n",
    "negative_review = get_embedding(\"差评\")\n",
    "\n",
    "positive_example = get_embedding(\"买的银色版真的很好看，一天就到了，晚上就开始拿起来完系统很丝滑流畅，做工扎实，手感细腻，很精致哦苹果一如既往的好品质\")\n",
    "negative_example = get_embedding(\"降价厉害，保价不合理，不推荐\")\n",
    "\n",
    "def get_score(sample_embedding):\n",
    "  return cosine_similarity(sample_embedding, positive_review) - cosine_similarity(sample_embedding, negative_review)\n",
    "\n",
    "positive_score = get_score(positive_example)\n",
    "negative_score = get_score(negative_example)\n",
    "\n",
    "print(\"好评例子的评分 : %f\" % (positive_score))\n",
    "print(\"差评例子的评分 : %f\" % (negative_score))"
   ]
  },
  {
   "cell_type": "code",
   "execution_count": 20,
   "id": "8371d7e6-e5ef-40db-b3b3-8df8469ef345",
   "metadata": {
    "tags": []
   },
   "outputs": [
    {
     "name": "stdout",
     "output_type": "stream",
     "text": [
      "                                          ReviewTitle   \n",
      "0               Honest review of an edm music lover\\n  \\\n",
      "1                          Really good and durable.\\n   \n",
      "2                   stopped working in just 14 days\\n   \n",
      "3                                    Dont buy this.\\n   \n",
      "4                               It's China product.\\n   \n",
      "5   Great purchase with minor flaws here and there.\\n   \n",
      "6                             Average sound quality\\n   \n",
      "7                            Good quality earphones\\n   \n",
      "8                                             Cheap\\n   \n",
      "9                                Noise cancellation\\n   \n",
      "10                                          Average\\n   \n",
      "11                              Don't buy  this one\\n   \n",
      "12                          Excellent sound quality\\n   \n",
      "13                                          average\\n   \n",
      "14                                     Fake product\\n   \n",
      "15  Good headset if you don't mind what I've state...   \n",
      "16                           Pathetic Audio Quality\\n   \n",
      "17                                   a good product\\n   \n",
      "18            Average headphones , n overrated name\\n   \n",
      "\n",
      "                                           ReviewBody  ReviewStar   \n",
      "0   No doubt it has a great bass and to a great ex...           3  \\\n",
      "1   i bought itfor 999,I purchased it second time,...           4   \n",
      "2   Its sound quality is adorable. overall it was ...           1   \n",
      "3   Its a cheap chinese product. No bass at all. V...           1   \n",
      "4                               It's China product.\\n           1   \n",
      "5   Its an awesome purchase but the mike doesn't q...           4   \n",
      "6   Pros. Good and comfortable  fit , eliminates n...           3   \n",
      "7   It's a good and value for money earphones. Hap...           5   \n",
      "8                                             Cheap\\n           3   \n",
      "9                                      Good quality\\n           5   \n",
      "10                                   Cheap and best\\n           4   \n",
      "11   sound is very poor, vibration option also poor\\n           1   \n",
      "12       Superb sound clarity !! Original product .\\n           5   \n",
      "13                          Average...not excellent\\n           3   \n",
      "14  The product i recieved is not even original. T...           1   \n",
      "15  I bought these a few days back and after a lot...           3   \n",
      "16  I like to think of myself as an audiophile, an...           1   \n",
      "17  the sound is good battery life is good but the...           5   \n",
      "18  M writing this review after using for almost 7...           1   \n",
      "\n",
      "                  Product                                        ReviewScore  \n",
      "0        boAt Rockerz 255  [0.005582466721534729, 0.0071463496424257755, ...  \n",
      "1        boAt Rockerz 255  [0.006652848795056343, 0.0018910159124061465, ...  \n",
      "2        boAt Rockerz 255  [-0.006895807571709156, 0.00024654954904690385...  \n",
      "3             Flybot Wave  [-0.007189901079982519, 0.009353234432637691, ...  \n",
      "4             Flybot Wave  [0.013017869554460049, -0.013338732533156872, ...  \n",
      "5             Flybot Wave  [0.0041557480581104755, -0.004231249913573265,...  \n",
      "6             Flybot Boom  [0.011609996668994427, 0.007624475285410881, -...  \n",
      "7           PTron Intunes  [0.00672720605507493, -0.005193097982555628, -...  \n",
      "8           PTron Intunes  [-0.011907837353646755, 0.00291891279630363, -...  \n",
      "9           PTron Intunes  [-0.005103041417896748, 0.009773455560207367, ...  \n",
      "10          PTron Intunes  [0.0017514268402010202, 0.007059701252728701, ...  \n",
      "11  Samsung EO-BG950CBEIN  [-0.014234290458261967, -0.0006870795041322708...  \n",
      "12  Samsung EO-BG950CBEIN  [0.01528854575008154, -0.0017552301287651062, ...  \n",
      "13  Samsung EO-BG950CBEIN  [-0.025123238563537598, 0.016470100730657578, ...  \n",
      "14             JBL T205BT  [0.0038042536471039057, -0.0016544456593692303...  \n",
      "15             JBL T205BT  [0.005297183524817228, -0.003082707291468978, ...  \n",
      "16    Sennheiser CX 6.0BT  [-0.011411304585635662, -0.00969993881881237, ...  \n",
      "17             JBL T110BT  [-0.004885043483227491, 0.008667854592204094, ...  \n",
      "18             JBL T110BT  [-0.02094576694071293, -0.010183432139456272, ...  \n"
     ]
    }
   ],
   "source": [
    "import pandas as pd\n",
    "import numpy as np\n",
    "from openai.embeddings_utils import cosine_similarity, get_embedding\n",
    "\n",
    "# 获取访问open ai的密钥\n",
    "openai.api_key = os.getenv(\"OPENAI_API_KEY\")\n",
    "# 选择使用最小的ada模型\n",
    "EMBEDDING_MODEL = \"text-embedding-ada-002\"\n",
    "\n",
    "\n",
    "from sklearn.metrics import classification_report\n",
    "get_review_score = lambda row: get_embedding(row['ReviewBody'],engine=EMBEDDING_MODEL)\n",
    "\n",
    "datafile_path = \"AllProductReviews.csv\"\n",
    "\n",
    "df = pd.read_csv(datafile_path,encoding='ISO-8859-1')\n",
    "\n",
    "# 使用 apply 函数计算每行数据的分数\n",
    "review_scores = df.apply(get_review_score, axis=1)\n",
    "\n",
    "# 将分数添加到 DataFrame 中\n",
    "df = df.assign(ReviewScore=review_scores)\n"
   ]
  },
  {
   "cell_type": "code",
   "execution_count": 17,
   "id": "e06d7da5-a324-40ea-8c83-6dcc4b5beb6a",
   "metadata": {
    "tags": []
   },
   "outputs": [
    {
     "name": "stdout",
     "output_type": "stream",
     "text": [
      "object\n"
     ]
    }
   ],
   "source": [
    "print(df['ReviewScore'].dtypes)"
   ]
  },
  {
   "cell_type": "code",
   "execution_count": 5,
   "id": "9c596140-1678-4649-abb2-97b167f59198",
   "metadata": {},
   "outputs": [
    {
     "name": "stdout",
     "output_type": "stream",
     "text": [
      "{'encoding': 'ISO-8859-1', 'confidence': 0.73, 'language': ''}\n"
     ]
    }
   ],
   "source": [
    "import chardet\n",
    "\n",
    "datafile_path = \"AllProductReviews.csv\"\n",
    "\n",
    "with open(datafile_path, 'rb') as f:\n",
    "    result = chardet.detect(f.read())\n",
    "print(result)"
   ]
  },
  {
   "cell_type": "code",
   "execution_count": 31,
   "id": "f77993cc-0be0-4c29-ab3d-4bb517a12ae6",
   "metadata": {
    "tags": []
   },
   "outputs": [],
   "source": [
    "df = df.loc[df.ReviewStar != 3]\n",
    "df.loc[df.ReviewStar.isin([1, 2]), 'sentiment'] = 'negative'\n",
    "df.loc[df.ReviewStar.isin([4, 5]), 'sentiment'] = 'positive'"
   ]
  },
  {
   "cell_type": "code",
   "execution_count": 35,
   "id": "7d42374b-435f-4ae7-a133-a4a79832ed37",
   "metadata": {},
   "outputs": [
    {
     "name": "stdout",
     "output_type": "stream",
     "text": [
      "                                          ReviewTitle   \n",
      "1                          Really good and durable.\\n  \\\n",
      "2                   stopped working in just 14 days\\n   \n",
      "3                                    Dont buy this.\\n   \n",
      "4                               It's China product.\\n   \n",
      "5   Great purchase with minor flaws here and there.\\n   \n",
      "7                            Good quality earphones\\n   \n",
      "9                                Noise cancellation\\n   \n",
      "10                                          Average\\n   \n",
      "11                              Don't buy  this one\\n   \n",
      "12                          Excellent sound quality\\n   \n",
      "14                                     Fake product\\n   \n",
      "16                           Pathetic Audio Quality\\n   \n",
      "17                                   a good product\\n   \n",
      "18            Average headphones , n overrated name\\n   \n",
      "\n",
      "                                           ReviewBody  ReviewStar   \n",
      "1   i bought itfor 999,I purchased it second time,...           4  \\\n",
      "2   Its sound quality is adorable. overall it was ...           1   \n",
      "3   Its a cheap chinese product. No bass at all. V...           1   \n",
      "4                               It's China product.\\n           1   \n",
      "5   Its an awesome purchase but the mike doesn't q...           4   \n",
      "7   It's a good and value for money earphones. Hap...           5   \n",
      "9                                      Good quality\\n           5   \n",
      "10                                   Cheap and best\\n           4   \n",
      "11   sound is very poor, vibration option also poor\\n           1   \n",
      "12       Superb sound clarity !! Original product .\\n           5   \n",
      "14  The product i recieved is not even original. T...           1   \n",
      "16  I like to think of myself as an audiophile, an...           1   \n",
      "17  the sound is good battery life is good but the...           5   \n",
      "18  M writing this review after using for almost 7...           1   \n",
      "\n",
      "                  Product                                        ReviewScore   \n",
      "1        boAt Rockerz 255  [0.006652848795056343, 0.0018910159124061465, ...  \\\n",
      "2        boAt Rockerz 255  [-0.006895807571709156, 0.00024654954904690385...   \n",
      "3             Flybot Wave  [-0.007189901079982519, 0.009353234432637691, ...   \n",
      "4             Flybot Wave  [0.013017869554460049, -0.013338732533156872, ...   \n",
      "5             Flybot Wave  [0.0041557480581104755, -0.004231249913573265,...   \n",
      "7           PTron Intunes  [0.00672720605507493, -0.005193097982555628, -...   \n",
      "9           PTron Intunes  [-0.005103041417896748, 0.009773455560207367, ...   \n",
      "10          PTron Intunes  [0.0017514268402010202, 0.007059701252728701, ...   \n",
      "11  Samsung EO-BG950CBEIN  [-0.014234290458261967, -0.0006870795041322708...   \n",
      "12  Samsung EO-BG950CBEIN  [0.01528854575008154, -0.0017552301287651062, ...   \n",
      "14             JBL T205BT  [0.0038042536471039057, -0.0016544456593692303...   \n",
      "16    Sennheiser CX 6.0BT  [-0.011411304585635662, -0.00969993881881237, ...   \n",
      "17             JBL T110BT  [-0.004885043483227491, 0.008667854592204094, ...   \n",
      "18             JBL T110BT  [-0.02094576694071293, -0.010183432139456272, ...   \n",
      "\n",
      "   sentiment    Probas  \n",
      "1   positive  0.047422  \n",
      "2   negative  0.016511  \n",
      "3   negative -0.024163  \n",
      "4   negative  0.011181  \n",
      "5   positive  0.022120  \n",
      "7   positive  0.061275  \n",
      "9   positive  0.055012  \n",
      "10  positive  0.031887  \n",
      "11  negative -0.029134  \n",
      "12  positive  0.050584  \n",
      "14  negative -0.030149  \n",
      "16  negative -0.018568  \n",
      "17  positive  0.043083  \n",
      "18  negative -0.016570  \n",
      "              precision    recall  f1-score   support\n",
      "\n",
      "    negative       1.00      0.71      0.83         7\n",
      "    positive       0.78      1.00      0.88         7\n",
      "\n",
      "    accuracy                           0.86        14\n",
      "   macro avg       0.89      0.86      0.85        14\n",
      "weighted avg       0.89      0.86      0.85        14\n",
      "\n"
     ]
    },
    {
     "data": {
      "image/png": "[encoded data removed]",
      "text/plain": [
       "<Figure size 640x480 with 1 Axes>"
      ]
     },
     "metadata": {},
     "output_type": "display_data"
    }
   ],
   "source": [
    "from sklearn.metrics import PrecisionRecallDisplay\n",
    "\n",
    "def evaluate_embeddings_approach(df,\n",
    "    labels = ['negative', 'positive'], \n",
    "    model = EMBEDDING_MODEL,\n",
    "):\n",
    "    label_embeddings = [get_embedding(label, engine=model) for label in labels]\n",
    "\n",
    "\n",
    "    def label_score(review_embedding, label_embeddings):\n",
    "        return cosine_similarity(review_embedding, label_embeddings[1]) - cosine_similarity(review_embedding, label_embeddings[0])\n",
    "\n",
    "    probas = df[\"ReviewScore\"].apply(lambda x: label_score(x, label_embeddings))\n",
    "    df = df.assign(Probas=probas)\n",
    "    print(df)\n",
    "    preds = probas.apply(lambda x: 'positive' if x>0 else 'negative')\n",
    "\n",
    "    report = classification_report(df.sentiment, preds)\n",
    "    print(report)\n",
    "\n",
    "    display = PrecisionRecallDisplay.from_predictions(df.sentiment, probas, pos_label='positive')\n",
    "    _ = display.ax_.set_title(\"2-class Precision-Recall curve\")\n",
    "\n",
    "evaluate_embeddings_approach(df,labels=['An Amazon review with a negative sentiment.', 'An Amazon review with a positive sentiment.'])\n",
    "\n"
   ]
  },
  {
   "cell_type": "code",
   "execution_count": 7,
   "id": "1f40e0f1-32c0-445b-b04a-bd68ed8f1920",
   "metadata": {},
   "outputs": [],
   "source": [
    "import numpy as np\n",
    "vec = np.zeros(300)"
   ]
  },
  {
   "cell_type": "code",
   "execution_count": 3,
   "id": "fd75a0fb-36d3-4b4c-ac36-4148dcfdd801",
   "metadata": {},
   "outputs": [
    {
     "name": "stdout",
     "output_type": "stream",
     "text": [
      "\n",
      "Note: you may need to restart the kernel to use updated packages.Collecting package metadata (current_repodata.json): ...working... done\n",
      "Solving environment: ...working... failed with initial frozen solve. Retrying with flexible solve.\n",
      "Collecting package metadata (repodata.json): ...working... done\n",
      "Solving environment: ...working... failed with initial frozen solve. Retrying with flexible solve.\n",
      "\n"
     ]
    },
    {
     "name": "stderr",
     "output_type": "stream",
     "text": [
      "\n",
      "PackagesNotFoundError: The following packages are not available from current channels:\n",
      "\n",
      "  - fasttext\n",
      "\n",
      "Current channels:\n",
      "\n",
      "  - https://conda.anaconda.org/conda-forge/win-64\n",
      "  - https://conda.anaconda.org/conda-forge/noarch\n",
      "  - https://conda.anaconda.org/anaconda/win-64\n",
      "  - https://conda.anaconda.org/anaconda/noarch\n",
      "  - https://conda.anaconda.org/openai/win-64\n",
      "  - https://conda.anaconda.org/openai/noarch\n",
      "  - https://repo.anaconda.com/pkgs/main/win-64\n",
      "  - https://repo.anaconda.com/pkgs/main/noarch\n",
      "  - https://repo.anaconda.com/pkgs/r/win-64\n",
      "  - https://repo.anaconda.com/pkgs/r/noarch\n",
      "  - https://repo.anaconda.com/pkgs/msys2/win-64\n",
      "  - https://repo.anaconda.com/pkgs/msys2/noarch\n",
      "\n",
      "To search for alternate channels that may provide the conda package you're\n",
      "looking for, navigate to\n",
      "\n",
      "    https://anaconda.org\n",
      "\n",
      "and use the search bar at the top of the page.\n",
      "\n",
      "\n"
     ]
    }
   ],
   "source": [
    "conda install fasttext"
   ]
  },
  {
   "cell_type": "code",
   "execution_count": null,
   "id": "b9b4c275-e6c2-41ad-8108-88f7ca9e0e76",
   "metadata": {},
   "outputs": [],
   "source": []
  }
 ],
 "metadata": {
  "kernelspec": {
   "display_name": "py310",
   "language": "python",
   "name": "py310"
  },
  "language_info": {
   "codemirror_mode": {
    "name": "ipython",
    "version": 3
   },
   "file_extension": ".py",
   "mimetype": "text/x-python",
   "name": "python",
   "nbconvert_exporter": "python",
   "pygments_lexer": "ipython3",
   "version": "3.10.10"
  }
 },
 "nbformat": 4,
 "nbformat_minor": 5
}
